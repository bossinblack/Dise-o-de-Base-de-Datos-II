{
 "cells": [
  {
   "cell_type": "markdown",
   "metadata": {},
   "source": [
    "# Cleaning\n",
    "\n",
    "Es el proceso de “limpiar” los datos llenando datos vacíos, \n",
    "corrigiendo datos con ruido, identificando y removiendo \n",
    "valores atípicos y resolviendo inconsistencias.\n",
    "Este proceso es parte de el pre-procesamiento de datos"
   ]
  },
  {
   "cell_type": "markdown",
   "metadata": {},
   "source": [
    "## Datos confiables\n",
    "\n",
    "Si los usuarios piensan que los datos están sucios pueden \n",
    "no confiar en los resultados del minado\n",
    "Los datos sucios pueden causar confusión en el proceso de \n",
    "minado y generar salidas poco confiables\n"
   ]
  },
  {
   "cell_type": "markdown",
   "metadata": {},
   "source": [
    "# Datos faltantes\n",
    "\n",
    "Algunas causas:\n",
    "\n",
    "- Los datos nunca fueron ingresados\n",
    "- Ocurrieron errores técnicos\n",
    "- Los datos no se consideraron importantes en el momento\n",
    "- Inconsistencia con otros datos\n",
    "- El dato no pudo llenarse (no aplica)"
   ]
  },
  {
   "cell_type": "markdown",
   "metadata": {},
   "source": [
    "# Analizar dataset"
   ]
  },
  {
   "cell_type": "code",
   "execution_count": null,
   "metadata": {},
   "outputs": [],
   "source": [
    "import pandas as pd\n",
    "import requests\n",
    "import numpy as np\n",
    "import os\n",
    "import matplotlib.pyplot as plt\n",
    "%matplotlib inline\n",
    "import seaborn as sns\n",
    "\n",
    "# Leer csv\n",
    "df = pd.read_csv('data/hotel_bookings.csv')\n",
    "\n",
    "df"
   ]
  },
  {
   "cell_type": "markdown",
   "metadata": {},
   "source": [
    "## Ver dimensiones"
   ]
  },
  {
   "cell_type": "code",
   "execution_count": null,
   "metadata": {},
   "outputs": [],
   "source": [
    "# Ver tamaño del datase\n",
    "df.shape"
   ]
  },
  {
   "cell_type": "markdown",
   "metadata": {},
   "source": [
    "## Ver tipo de atributos"
   ]
  },
  {
   "cell_type": "code",
   "execution_count": null,
   "metadata": {},
   "outputs": [],
   "source": [
    "# Ver tipo de atributos\n",
    "df.dtypes"
   ]
  },
  {
   "cell_type": "markdown",
   "metadata": {},
   "source": [
    "## Ver información general"
   ]
  },
  {
   "cell_type": "code",
   "execution_count": null,
   "metadata": {},
   "outputs": [],
   "source": [
    "# Ver información general\n",
    "df.info()"
   ]
  },
  {
   "cell_type": "markdown",
   "metadata": {},
   "source": [
    "## Ver datos faltantes"
   ]
  },
  {
   "cell_type": "code",
   "execution_count": null,
   "metadata": {},
   "outputs": [],
   "source": [
    "faltantes = []\n",
    "for columna in df.columns:\n",
    "    atributo = {}\n",
    "    atributo[\"columna\"] = columna\n",
    "    # Obtener promedio de valores nulos para la columna\n",
    "    atributo[\"porcentaje\"] = np.mean(df[columna].isnull())*100\n",
    "    # Obtener cantidad de valores nulos para la columna\n",
    "    atributo[\"cantidad\"] = np.sum(df[columna].isnull())\n",
    "    faltantes.append(atributo)  \n",
    "\n",
    "# Convertir lista de diccionarios en dataframe\n",
    "faltantes_df = pd.DataFrame(faltantes)\n",
    "\n",
    "faltantes_df"
   ]
  },
  {
   "cell_type": "markdown",
   "metadata": {},
   "source": [
    "## Graficar porcentaje de datos faltantes"
   ]
  },
  {
   "cell_type": "code",
   "execution_count": null,
   "metadata": {},
   "outputs": [],
   "source": [
    "# Ordenar por porcentaje descendente\n",
    "faltantes_df = faltantes_df.sort_values('porcentaje', ascending=False)\n",
    "\n",
    "# Filtrar por porcentaje mayor a 0\n",
    "df_fl_p = faltantes_df.loc[(faltantes_df['porcentaje'] > 10)]\n",
    "\n",
    "# Graficar\n",
    "plt.bar(df_fl_p[\"columna\"], df_fl_p[\"porcentaje\"])\n",
    "plt.ylabel('Porcentaje')\n",
    "plt.title('Atributos faltantes')\n",
    "plt.show()    "
   ]
  },
  {
   "cell_type": "markdown",
   "metadata": {},
   "source": [
    "## Graficar cantidad de datos faltantes"
   ]
  },
  {
   "cell_type": "code",
   "execution_count": null,
   "metadata": {},
   "outputs": [],
   "source": [
    "# Ordenar por cantidad descendente\n",
    "faltantes_df = faltantes_df.sort_values('cantidad', ascending=False)\n",
    "\n",
    "# Filtrar por cantidad mayor a 0\n",
    "df_fl_c = faltantes_df.loc[(faltantes_df['cantidad'] > 0)]\n",
    "\n",
    "# Graficar\n",
    "plt.bar(df_fl_c[\"columna\"], df_fl_c[\"cantidad\"])\n",
    "plt.ylabel('Cantidad')\n",
    "plt.title('Atributos faltantes')\n",
    "plt.show()     "
   ]
  },
  {
   "cell_type": "markdown",
   "metadata": {},
   "source": [
    "## Graficar mapa de calor de datos faltantes"
   ]
  },
  {
   "cell_type": "code",
   "execution_count": null,
   "metadata": {},
   "outputs": [],
   "source": [
    "sns.heatmap(df.isnull(), cbar=False)"
   ]
  },
  {
   "cell_type": "markdown",
   "metadata": {},
   "source": [
    "## Histograma de atributos faltantes"
   ]
  },
  {
   "cell_type": "code",
   "execution_count": null,
   "metadata": {},
   "outputs": [],
   "source": [
    "# Copiar dataframe\n",
    "df_hist = df.copy(deep = False)\n",
    "# Recorrer columnas\n",
    "for col in df.columns:\n",
    "    # Evaluar si los registros faltan\n",
    "    faltantes = df[col].isnull()\n",
    "    # Sumar faltantes\n",
    "    cant_faltantes = np.sum(faltantes)\n",
    "    # Si existen valores faltantes\n",
    "    if cant_faltantes > 0:  \n",
    "        print(\"Crear indicador para \"+str(col))\n",
    "        # Crear una columna indicadora para esa columna\n",
    "        df_hist[col+\"_faltante\"] = faltantes\n",
    "df_hist"
   ]
  },
  {
   "cell_type": "code",
   "execution_count": null,
   "metadata": {},
   "outputs": [],
   "source": [
    "# Obtener columnas de indicadores\n",
    "columnas_faltantes = [col for col in df_hist.columns if '_faltante' in col]\n",
    "# Sumar columnas faltantes y cargarlo como una columna nueva\n",
    "df_hist['cant_falt'] = df_hist[columnas_faltantes].sum(axis=1)\n",
    "display(df_hist)"
   ]
  },
  {
   "cell_type": "code",
   "execution_count": null,
   "metadata": {},
   "outputs": [],
   "source": [
    "# Graficar histograma\n",
    "plt.hist(df_hist['cant_falt'])\n",
    "plt.ylabel('Cantidad')\n",
    "plt.xlabel('Faltantes');"
   ]
  },
  {
   "cell_type": "markdown",
   "metadata": {},
   "source": [
    "# Técnicas para tratar valores faltantes"
   ]
  },
  {
   "cell_type": "markdown",
   "metadata": {},
   "source": [
    "## Eliminar muestras\n",
    "\n",
    "- Este método generalmente se utiliza cuando el valor faltante \n",
    "es el correspondiente a la clase (en casos de clasificación).\n",
    "- No es muy efectivo a menos que la tupla contiene muchas \n",
    "variables faltantes.\n"
   ]
  },
  {
   "cell_type": "code",
   "execution_count": null,
   "metadata": {},
   "outputs": [],
   "source": [
    "df_sin_muestras = df_hist.copy(deep = False)\n",
    "# Obtener índices de muestras con más de dos atributos faltantes\n",
    "faltantes_index = df_sin_muestras[df_sin_muestras['cant_falt'] > 2].index\n",
    "# Eliminar esos índices de el dataframe\n",
    "df_sin_muestras = df_sin_muestras.drop(faltantes_index, axis=0)\n",
    "df_sin_muestras"
   ]
  },
  {
   "cell_type": "markdown",
   "metadata": {},
   "source": [
    "## Eliminar atributos"
   ]
  },
  {
   "cell_type": "code",
   "execution_count": null,
   "metadata": {},
   "outputs": [],
   "source": [
    "df_sin_atributos = df.copy(deep = False)\n",
    "display(df_fl_p)\n",
    "# Filtrar dataframe para aquellos valores donde el porcentaje de falta sea mayor 50\n",
    "df_fl_p = df_fl_p.loc[(df_fl_p['porcentaje'] > 10)]\n",
    "print(df_fl_p)\n",
    "# Eliminar las columnas resultantes del dataframe\n",
    "df_sin_atributos = df_sin_atributos.drop(df_fl_p[\"columna\"], axis=1)\n",
    "display(df_sin_atributos)"
   ]
  },
  {
   "cell_type": "markdown",
   "metadata": {},
   "source": [
    "## Rellenar valores faltantes\n",
    "\n",
    "Al ser un método manual toma un tiempo considerable y \n",
    "puede no ser aplicable si se trata con un conjunto de datos \n",
    "muy grande con una gran cantidad de datos faltantes."
   ]
  },
  {
   "cell_type": "markdown",
   "metadata": {},
   "source": [
    "## Reemplazar con mediana\n",
    "\n",
    "- Solo para valores numéricos"
   ]
  },
  {
   "cell_type": "code",
   "execution_count": null,
   "metadata": {},
   "outputs": [],
   "source": [
    "df_mediana = df.copy(deep = False)\n",
    "print(df_mediana[\"company\"])\n",
    "# Obtener mediana\n",
    "mediana = df_mediana['company'].median()\n",
    "# Llenar valores faltantes con mediana\n",
    "df_mediana['company'] = df_mediana['company'].fillna(mediana)\n",
    "print(df_mediana[\"company\"])"
   ]
  },
  {
   "cell_type": "markdown",
   "metadata": {},
   "source": [
    "## Reemplazar con media\n",
    "\n",
    "- Solo para valores numéricos"
   ]
  },
  {
   "cell_type": "code",
   "execution_count": null,
   "metadata": {},
   "outputs": [],
   "source": [
    "df_media = df.copy(deep = False)\n",
    "print(df_media[\"company\"])\n",
    "# Obtener media\n",
    "media = df_media['company'].mean()\n",
    "# Llenar valores faltantes con media\n",
    "df_media['company'] = df_media['company'].fillna(media)\n",
    "print(df_media[\"company\"])"
   ]
  },
  {
   "cell_type": "markdown",
   "metadata": {},
   "source": [
    "## Reemplazar con moda\n",
    "\n",
    "- Solo para valores categóricos"
   ]
  },
  {
   "cell_type": "code",
   "execution_count": null,
   "metadata": {},
   "outputs": [],
   "source": [
    "df_moda = df.copy(deep = False)\n",
    "# Obtener la moda para columna\n",
    "moda = df_moda['country'].describe() \n",
    "print(moda)\n",
    "# Reemplazar valores vacíos con moda\n",
    "df_moda[\"country\"] = df_moda[\"country\"].fillna(moda[\"top\"])\n",
    "print(df_moda[\"country\"])"
   ]
  },
  {
   "cell_type": "markdown",
   "metadata": {},
   "source": [
    "## Estimar el valor\n",
    "\n",
    "Obtener el valor más probable puede lograrse mediante algunas de las siguientes técnicas:\n",
    "\n",
    "- Regresión\n",
    "- Inferencia Bayesiana\n",
    "- Árboles de decisión de inferencia\n",
    "\n",
    "Cada valor es calculado tomando en cuenta la información  \n",
    "existente en el conjunto de datos. \n",
    "Preserva mejor la relación entre los \n",
    "atributos."
   ]
  },
  {
   "cell_type": "markdown",
   "metadata": {},
   "source": [
    "## Usar constante global\n",
    "\n",
    "Consiste en remplazar todos los valores faltantes con la \n",
    "misma constantes con una etiqueta como “Unknown” o \n",
    "“NULL”.\n",
    "Es importante tener esta decisión en cuenta para que el \n",
    "programa elegido no tome dicha etiqueta como un valor \n",
    "durante el análisis "
   ]
  },
  {
   "cell_type": "code",
   "execution_count": null,
   "metadata": {},
   "outputs": [],
   "source": [
    "df_global = df.copy(deep = False)\n",
    "# Reemplazar valores faltantes con un string\n",
    "df_global['country'] = df_global['country'].fillna('_faltante_')\n",
    "\n",
    "\n",
    "# Reemplazar valores faltantes con un número fuera del rango\n",
    "df_global['company'] = df_global['company'].fillna(-999)"
   ]
  },
  {
   "cell_type": "code",
   "execution_count": null,
   "metadata": {},
   "outputs": [],
   "source": []
  },
  {
   "cell_type": "code",
   "execution_count": null,
   "metadata": {},
   "outputs": [],
   "source": []
  }
 ],
 "metadata": {
  "kernelspec": {
   "display_name": "Python 3",
   "language": "python",
   "name": "python3"
  },
  "language_info": {
   "codemirror_mode": {
    "name": "ipython",
    "version": 3
   },
   "file_extension": ".py",
   "mimetype": "text/x-python",
   "name": "python",
   "nbconvert_exporter": "python",
   "pygments_lexer": "ipython3",
   "version": "3.8.3"
  }
 },
 "nbformat": 4,
 "nbformat_minor": 5
}
