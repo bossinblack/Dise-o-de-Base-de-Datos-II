{
 "cells": [
  {
   "cell_type": "markdown",
   "metadata": {},
   "source": [
    "# Proyecto análisis de conversación de mensajería"
   ]
  },
  {
   "cell_type": "markdown",
   "metadata": {},
   "source": [
    "## Cargar datos\n",
    "- Exportar una conversación personal o grupal de Whastapp o Telegram en un formato adecuado (JSON, CSV, etc), no exportar audios, archivos multimedia, etc\n",
    "- Importar archivo y convertirlo en dataframe"
   ]
  },
  {
   "cell_type": "markdown",
   "metadata": {},
   "source": [
    "<div>\n",
    "\t<h3>Carga de Datos</h3>\n",
    "\t<div>\n",
    "\t\tPara este trabajo práctico, examinaremos la conversación en telegram de las materias TIF I y TIF II. El grupo fue creado el 21 de Marzo de 2021 y tiene 25 participantes.  \n",
    "\t</div>\n",
    "\t<br>\n",
    "\t<div>Trabajaremos con el <a href=\"data/chat_tif_telegram.json\">Historial</a> en formato JSON.</div>\n",
    "</div>"
   ]
  },
  {
   "cell_type": "code",
   "execution_count": null,
   "metadata": {},
   "outputs": [],
   "source": [
    "import pandas as pd\n",
    "import requests\n",
    "import numpy as np\n",
    "import os\n",
    "import matplotlib.pyplot as plt\n",
    "%matplotlib inline\n",
    "import seaborn as sns\n"
   ]
  },
  {
   "cell_type": "code",
   "execution_count": null,
   "metadata": {},
   "outputs": [],
   "source": [
    "df = pd.read_json('data/chat_tif_telegram.json')\n",
    "\n",
    "df\n",
    "\n",
    "msn_json = df['messages']\n",
    "\n",
    "msn_json\n",
    "\n",
    "\n",
    "msn = pd.DataFrame(msn_json.to_list())\n",
    "\n",
    "msn\n"
   ]
  },
  {
   "cell_type": "markdown",
   "metadata": {},
   "source": [
    "## Conocer los datos\n",
    "\n",
    "- Observar que tipo de datos tiene el dataframe y que tipo de valores tiene\n",
    "- Explicar que significa cada campo y que tipo de acciones quedan registradas"
   ]
  },
  {
   "cell_type": "code",
   "execution_count": null,
   "metadata": {},
   "outputs": [],
   "source": [
    "msn.shape"
   ]
  },
  {
   "cell_type": "code",
   "execution_count": null,
   "metadata": {},
   "outputs": [],
   "source": [
    "msn.dtypes"
   ]
  },
  {
   "cell_type": "markdown",
   "metadata": {},
   "source": [
    "<table >\n",
    "\t<tr>\n",
    "\t\t<td>\n",
    "\t\t\t<p class=\"normal\">id</p>\n",
    "\t\t</td>\n",
    "\t\t<td>\n",
    "\t\t\t<p class=\"normal\"></p>\n",
    "\t\t</td>\n",
    "\t</tr>\n",
    "\t<tr>\n",
    "\t\t<td>\n",
    "\t\t\t<p class=\"normal\">type</p>\n",
    "\t\t</td>\n",
    "\t\t<td>\n",
    "\t\t\t<p class=\"normal\"></p>\n",
    "\t\t</td>\n",
    "\t</tr>\n",
    "\t<tr>\n",
    "\t\t<td>\n",
    "\t\t\t<p class=\"normal\">date</p>\n",
    "\t\t</td>\n",
    "\t\t<td>\n",
    "\t\t\t<p class=\"normal\"></p>\n",
    "\t\t</td>\n",
    "\t</tr>\n",
    "\t<tr>\n",
    "\t\t<td>\n",
    "\t\t\t<p class=\"normal\">actor</p>\n",
    "\t\t</td>\n",
    "\t\t<td>\n",
    "\t\t\t<p class=\"normal\"></p>\n",
    "\t\t</td>\n",
    "\t</tr>\n",
    "\t<tr>\n",
    "\t\t<td>\n",
    "\t\t\t<p class=\"normal\">actor_id</p>\n",
    "\t\t</td>\n",
    "\t\t<td>\n",
    "\t\t\t<p class=\"normal\"></p>\n",
    "\t\t</td>\n",
    "\t</tr>\n",
    "\t<tr>\n",
    "\t\t<td>\n",
    "\t\t\t<p class=\"normal\">action</p>\n",
    "\t\t</td>\n",
    "\t\t<td>\n",
    "\t\t\t<p class=\"normal\"></p>\n",
    "\t\t</td>\n",
    "\t</tr>\n",
    "\t<tr>\n",
    "\t\t<td>\n",
    "\t\t\t<p class=\"normal\">title</p>\n",
    "\t\t</td>\n",
    "\t\t<td>\n",
    "\t\t\t<p class=\"normal\"></p>\n",
    "\t\t</td>\n",
    "\t</tr>\n",
    "\t<tr>\n",
    "\t\t<td>\n",
    "\t\t\t<p class=\"normal\">text</p>\n",
    "\t\t</td>\n",
    "\t\t<td>\n",
    "\t\t\t<p class=\"normal\"></p>\n",
    "\t\t</td>\n",
    "\t</tr>\n",
    "\t<tr>\n",
    "\t\t<td>\n",
    "\t\t\t<p class=\"normal\">inviter</p>\n",
    "\t\t</td>\n",
    "\t\t<td>\n",
    "\t\t\t<p class=\"normal\"></p>\n",
    "\t\t</td>\n",
    "\t</tr>\n",
    "\t<tr>\n",
    "\t\t<td>\n",
    "\t\t\t<p class=\"normal\">from</p>\n",
    "\t\t</td>\n",
    "\t\t<td>\n",
    "\t\t\t<p class=\"normal\"></p>\n",
    "\t\t</td>\n",
    "\t</tr>\n",
    "\t<tr>\n",
    "\t\t<td>\n",
    "\t\t\t<p class=\"normal\">from_id</p>\n",
    "\t\t</td>\n",
    "\t\t<td>\n",
    "\t\t\t<p class=\"normal\"></p>\n",
    "\t\t</td>\n",
    "\t</tr>\n",
    "\t<tr>\n",
    "\t\t<td>\n",
    "\t\t\t<p class=\"normal\">members</p>\n",
    "\t\t</td>\n",
    "\t\t<td>\n",
    "\t\t\t<p class=\"normal\"></p>\n",
    "\t\t</td>\n",
    "\t</tr>\n",
    "\t<tr>\n",
    "\t\t<td>\n",
    "\t\t\t<p class=\"normal\">reply_to_message_id</p>\n",
    "\t\t</td>\n",
    "\t\t<td>\n",
    "\t\t\t<p class=\"normal\"></p>\n",
    "\t\t</td>\n",
    "\t</tr>\n",
    "\t<tr>\n",
    "\t\t<td>\n",
    "\t\t\t<p class=\"normal\">photo</p>\n",
    "\t\t</td>\n",
    "\t\t<td>\n",
    "\t\t\t<p class=\"normal\"></p>\n",
    "\t\t</td>\n",
    "\t</tr>\n",
    "\t<tr>\n",
    "\t\t<td>\n",
    "\t\t\t<p class=\"normal\">width</p>\n",
    "\t\t</td>\n",
    "\t\t<td>\n",
    "\t\t\t<p class=\"normal\"></p>\n",
    "\t\t</td>\n",
    "\t</tr>\n",
    "\t<tr>\n",
    "\t\t<td>\n",
    "\t\t\t<p class=\"normal\">height</p>\n",
    "\t\t</td>\n",
    "\t\t<td>\n",
    "\t\t\t<p class=\"normal\"></p>\n",
    "\t\t</td>\n",
    "\t</tr>\n",
    "\t<tr>\n",
    "\t\t<td>\n",
    "\t\t\t<p class=\"normal\">file</p>\n",
    "\t\t</td>\n",
    "\t\t<td>\n",
    "\t\t\t<p class=\"normal\"></p>\n",
    "\t\t</td>\n",
    "\t</tr>\n",
    "\t<tr>\n",
    "\t\t<td>\n",
    "\t\t\t<p class=\"normal\">thumbnail</p>\n",
    "\t\t</td>\n",
    "\t\t<td>\n",
    "\t\t\t<p class=\"normal\"></p>\n",
    "\t\t</td>\n",
    "\t</tr>\n",
    "\t<tr>\n",
    "\t\t<td>\n",
    "\t\t\t<p class=\"normal\">media_type</p>\n",
    "\t\t</td>\n",
    "\t\t<td>\n",
    "\t\t\t<p class=\"normal\"></p>\n",
    "\t\t</td>\n",
    "\t</tr>\n",
    "\t<tr>\n",
    "\t\t<td>\n",
    "\t\t\t<p class=\"normal\">sticker_emoji</p>\n",
    "\t\t</td>\n",
    "\t\t<td>\n",
    "\t\t\t<p class=\"normal\"></p>\n",
    "\t\t</td>\n",
    "\t</tr>\n",
    "\t<tr>\n",
    "\t\t<td>\n",
    "\t\t\t<p class=\"normal\">mime_type</p>\n",
    "\t\t</td>\n",
    "\t\t<td>\n",
    "\t\t\t<p class=\"normal\"></p>\n",
    "\t\t</td>\n",
    "\t</tr>\n",
    "\t<tr>\n",
    "\t\t<td>\n",
    "\t\t\t<p class=\"normal\">duration_seconds</p>\n",
    "\t\t</td>\n",
    "\t\t<td>\n",
    "\t\t\t<p class=\"normal\"></p>\n",
    "\t\t</td>\n",
    "\t</tr>\n",
    "\t<tr>\n",
    "\t\t<td>\n",
    "\t\t\t<p class=\"normal\">edited</p>\n",
    "\t\t</td>\n",
    "\t\t<td>\n",
    "\t\t\t<p class=\"normal\"></p>\n",
    "\t\t</td>\n",
    "\t</tr>\n",
    "</table>"
   ]
  },
  {
   "cell_type": "code",
   "execution_count": null,
   "metadata": {},
   "outputs": [],
   "source": [
    "msn.info()"
   ]
  },
  {
   "cell_type": "markdown",
   "metadata": {},
   "source": [
    "## Datos faltantes\n",
    "\n",
    "- Analizar de manera visual y no visual si existen datos faltantes"
   ]
  },
  {
   "cell_type": "code",
   "execution_count": null,
   "metadata": {},
   "outputs": [],
   "source": [
    "faltantes = []\n",
    "print(msn.columns)\n",
    "for columna in msn.columns:\n",
    "    atributo = {}\n",
    "    atributo[\"columna\"] = columna\n",
    "    # Obtener promedio de valores nulos para la columna\n",
    "    atributo[\"porcentaje\"] = np.mean(msn[columna].isna())*100\n",
    "    # Obtener cantidad de valores nulos para la columna\n",
    "    atributo[\"cantidad\"] = np.sum(msn[columna].isna())\n",
    "    faltantes.append(atributo)  \n",
    "\n",
    "# Convertir lista de diccionarios en dataframe\n",
    "faltantes_df = pd.DataFrame(faltantes)\n",
    "\n",
    "faltantes_df"
   ]
  },
  {
   "cell_type": "markdown",
   "metadata": {},
   "source": [
    "- Tratar datos faltantes en el caso que los haya\n",
    "- Explicar qué método se utilizó y por qué"
   ]
  },
  {
   "cell_type": "code",
   "execution_count": null,
   "metadata": {},
   "outputs": [],
   "source": []
  },
  {
   "cell_type": "markdown",
   "metadata": {},
   "source": [
    "## Outliers\n",
    "\n",
    "- Analizar de manera visual y no visual si existen valores atípicos para cada valor no categórico"
   ]
  },
  {
   "cell_type": "code",
   "execution_count": null,
   "metadata": {},
   "outputs": [],
   "source": []
  },
  {
   "cell_type": "markdown",
   "metadata": {},
   "source": [
    "- Si existen valores atípicos, ¿estos son causados por errores en la carga de datos o por otra razón?. Explicar la razón"
   ]
  },
  {
   "cell_type": "code",
   "execution_count": null,
   "metadata": {},
   "outputs": [],
   "source": []
  }
 ],
 "metadata": {
  "kernelspec": {
   "display_name": "Python 3",
   "language": "python",
   "name": "python3"
  },
  "language_info": {
   "codemirror_mode": {
    "name": "ipython",
    "version": 3
   },
   "file_extension": ".py",
   "mimetype": "text/x-python",
   "name": "python",
   "nbconvert_exporter": "python",
   "pygments_lexer": "ipython3",
   "version": "3.8.3"
  }
 },
 "nbformat": 4,
 "nbformat_minor": 5
}
